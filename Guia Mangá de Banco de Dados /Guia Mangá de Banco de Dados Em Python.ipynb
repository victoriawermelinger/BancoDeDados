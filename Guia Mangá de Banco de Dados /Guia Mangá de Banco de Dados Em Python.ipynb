{
 "cells": [
  {
   "cell_type": "markdown",
   "id": "2ea31eae",
   "metadata": {},
   "source": [
    "# **Guia Mangá de *Banco de Dados* Em Python**\n",
    "\n",
    "ARQUIVOS CSV, CRIADOS PELA MINHA PARTE. \n"
   ]
  },
  {
   "cell_type": "code",
   "execution_count": null,
   "id": "8823e4c9",
   "metadata": {},
   "outputs": [
    {
     "name": "stdout",
     "output_type": "stream",
     "text": [
      "   codigo_produto         nome_produto  preco_un\n",
      "0               1     Caju Desidratada      6.45\n",
      "1               2    Graviola Orgânica      1.83\n",
      "2               3       Maçã Importada      1.00\n",
      "3               4  Pitanga Desidratada     13.09\n",
      "4               5               Banana      2.31\n"
     ]
    }
   ],
   "source": [
    "import pandas as pd\n",
    "\n",
    "# Caminho para o arquivo\n",
    "caminho_arquivo = \"/home/wermelinger_v/Documentos/GitHub/BancoDeDados/tabela_frutas.csv\"\n",
    "\n",
    "# Ler o CSV com pandas\n",
    "df_frutas = pd.read_csv(caminho_arquivo)\n",
    "\n",
    "# Exibir as 5 primeiras linhas da tabela\n",
    "df_frutas.head()"
   ]
  },
  {
   "cell_type": "code",
   "execution_count": 4,
   "id": "64023127",
   "metadata": {},
   "outputs": [
    {
     "data": {
      "text/html": [
       "<div>\n",
       "<style scoped>\n",
       "    .dataframe tbody tr th:only-of-type {\n",
       "        vertical-align: middle;\n",
       "    }\n",
       "\n",
       "    .dataframe tbody tr th {\n",
       "        vertical-align: top;\n",
       "    }\n",
       "\n",
       "    .dataframe thead th {\n",
       "        text-align: right;\n",
       "    }\n",
       "</style>\n",
       "<table border=\"1\" class=\"dataframe\">\n",
       "  <thead>\n",
       "    <tr style=\"text-align: right;\">\n",
       "      <th></th>\n",
       "      <th>codigo_destino_exportacao</th>\n",
       "      <th>nome_destino_export</th>\n",
       "      <th>populacao</th>\n",
       "      <th>distrito</th>\n",
       "    </tr>\n",
       "  </thead>\n",
       "  <tbody>\n",
       "    <tr>\n",
       "      <th>0</th>\n",
       "      <td>1</td>\n",
       "      <td>São Petersburgo</td>\n",
       "      <td>4746498</td>\n",
       "      <td>Comercial</td>\n",
       "    </tr>\n",
       "    <tr>\n",
       "      <th>1</th>\n",
       "      <td>2</td>\n",
       "      <td>Buenos Aires</td>\n",
       "      <td>4291107</td>\n",
       "      <td>Sul</td>\n",
       "    </tr>\n",
       "    <tr>\n",
       "      <th>2</th>\n",
       "      <td>3</td>\n",
       "      <td>Dubai</td>\n",
       "      <td>4092277</td>\n",
       "      <td>Leste</td>\n",
       "    </tr>\n",
       "    <tr>\n",
       "      <th>3</th>\n",
       "      <td>4</td>\n",
       "      <td>Lisboa</td>\n",
       "      <td>6579285</td>\n",
       "      <td>Metropolitano</td>\n",
       "    </tr>\n",
       "    <tr>\n",
       "      <th>4</th>\n",
       "      <td>5</td>\n",
       "      <td>Tóquio</td>\n",
       "      <td>3833928</td>\n",
       "      <td>Norte</td>\n",
       "    </tr>\n",
       "  </tbody>\n",
       "</table>\n",
       "</div>"
      ],
      "text/plain": [
       "   codigo_destino_exportacao nome_destino_export  populacao       distrito\n",
       "0                          1     São Petersburgo    4746498      Comercial\n",
       "1                          2        Buenos Aires    4291107            Sul\n",
       "2                          3               Dubai    4092277          Leste\n",
       "3                          4              Lisboa    6579285  Metropolitano\n",
       "4                          5              Tóquio    3833928          Norte"
      ]
     },
     "execution_count": 4,
     "metadata": {},
     "output_type": "execute_result"
    }
   ],
   "source": [
    "import pandas as pd\n",
    "\n",
    "# Caminho para o arquivo\n",
    "caminho_arquivo = \"/home/wermelinger_v/Documentos/GitHub/BancoDeDados/tabela_destinos_exportacao.csv\"\n",
    "\n",
    "# Ler o CSV com pandas\n",
    "df_exportação = pd.read_csv(caminho_arquivo)\n",
    "\n",
    "# Exibir as 5 primeiras linhas da tabela\n",
    "df_exportação.head()"
   ]
  },
  {
   "cell_type": "markdown",
   "id": "ce1fd31f",
   "metadata": {},
   "source": [
    "## **EXECICIOS CÁP.4**"
   ]
  },
  {
   "cell_type": "code",
   "execution_count": null,
   "id": "0d6644c4",
   "metadata": {},
   "outputs": [
    {
     "name": "stdout",
     "output_type": "stream",
     "text": [
      "     codigo_destino_exportacao nome_destino_export  populacao       distrito\n",
      "0                            1     São Petersburgo    4746498      Comercial\n",
      "1                            2        Buenos Aires    4291107            Sul\n",
      "2                            3               Dubai    4092277          Leste\n",
      "3                            4              Lisboa    6579285  Metropolitano\n",
      "4                            5              Tóquio    3833928          Norte\n",
      "..                         ...                 ...        ...            ...\n",
      "245                        246         Los Angeles    7242708          Oeste\n",
      "246                        247               Dubai    8935772            Sul\n",
      "247                        248                Seul     565176     Industrial\n",
      "248                        249              Berlim    7699110  Metropolitano\n",
      "249                        250              Berlim    9214968          Leste\n",
      "\n",
      "[250 rows x 4 columns]\n"
     ]
    }
   ],
   "source": [
    "# Q1\n",
    "# Filtrar os destinos com população maior ou igual a 100\n",
    "q1 = df_exportação[df_exportação[\"populacao\"] >= 100]\n",
    "# Exibir os destinos filtrados\n",
    "print(q1)"
   ]
  },
  {
   "cell_type": "code",
   "execution_count": null,
   "id": "cdebf22c",
   "metadata": {},
   "outputs": [
    {
     "name": "stdout",
     "output_type": "stream",
     "text": [
      "Empty DataFrame\n",
      "Columns: [codigo_destino_exportacao, nome_destino_export, populacao, distrito]\n",
      "Index: []\n"
     ]
    }
   ],
   "source": [
    "# Q2\n",
    "# Filtrar os destinos com população menor que 100\n",
    "q2 = df_exportação[df_exportação[\"populacao\"] < 100]\n",
    "# Exibir os destinos filtrados\n",
    "print(q2)"
   ]
  },
  {
   "cell_type": "code",
   "execution_count": null,
   "id": "92131777",
   "metadata": {},
   "outputs": [
    {
     "name": "stdout",
     "output_type": "stream",
     "text": [
      "    codigo_produto         nome_produto  preco_un\n",
      "0                1     Caju Desidratada      6.45\n",
      "1                2    Graviola Orgânica      1.83\n",
      "2                3       Maçã Importada      1.00\n",
      "3                4  Pitanga Desidratada     13.09\n",
      "4                5               Banana      2.31\n",
      "5                6                 Maçã      2.60\n",
      "6                7     Laranja Nacional      5.21\n",
      "7                8  Abacaxi Desidratada     13.46\n",
      "8                9              Cupuaçu      7.80\n",
      "9               10      Amora Importada     16.90\n",
      "10              11  Abacaxi Desidratada     14.43\n",
      "11              12       Manga Orgânica      3.68\n",
      "12              13     Banana Importada     16.34\n",
      "13              14        Coco Orgânica      1.30\n",
      "14              15       Amora Orgânica      3.38\n",
      "15              16    Abacaxi Importada     12.73\n",
      "16              17   Tangerina Orgânica      7.44\n",
      "17              18     Cupuaçu Orgânica      1.39\n",
      "18              19  Tamarindo Importada     10.96\n"
     ]
    }
   ],
   "source": [
    "# Q3\n",
    "# Filtrar os destinos com população maior ou igual a 100 e código de destino menor que 20\n",
    "q3 = df_frutas[(df_exportação[\"populacao\"] >= 100) & (df_exportação[\"codigo_destino_exportacao\"] < 20)]\n",
    "# Exibir os destinos filtrados\n",
    "print(q3)"
   ]
  },
  {
   "cell_type": "code",
   "execution_count": null,
   "id": "5e4bf7a4",
   "metadata": {},
   "outputs": [
    {
     "name": "stdout",
     "output_type": "stream",
     "text": [
      "     codigo_destino_exportacao nome_destino_export  populacao       distrito\n",
      "29                          30                Seul    2686142          Norte\n",
      "30                          31        Buenos Aires     858904      Turístico\n",
      "31                          32             Bangcoc    7371046  Metropolitano\n",
      "32                          33              Lisboa    1200230          Leste\n",
      "33                          34              Lisboa    1394333      Comercial\n",
      "..                         ...                 ...        ...            ...\n",
      "245                        246         Los Angeles    7242708          Oeste\n",
      "246                        247               Dubai    8935772            Sul\n",
      "247                        248                Seul     565176     Industrial\n",
      "248                        249              Berlim    7699110  Metropolitano\n",
      "249                        250              Berlim    9214968          Leste\n",
      "\n",
      "[221 rows x 4 columns]\n"
     ]
    }
   ],
   "source": [
    "# Q4\n",
    "# Filtrar os destinos com código de destino maior ou igual a 30 e população maior que 100\n",
    "q4 = df_exportação[(df_exportação[\"codigo_destino_exportacao\"] >= 30) & (df_exportação[\"populacao\"] > 100)]\n",
    "# Exibir os destinos filtrados\n",
    "print(q4)"
   ]
  },
  {
   "cell_type": "code",
   "execution_count": 16,
   "id": "bc87dce3",
   "metadata": {},
   "outputs": [
    {
     "name": "stdout",
     "output_type": "stream",
     "text": [
      "     codigo_destino_exportacao nome_destino_export  populacao       distrito\n",
      "2                            3               Dubai    4092277          Leste\n",
      "15                          16               Dubai    8935946      Turístico\n",
      "20                          21               Dubai    7358247  Metropolitano\n",
      "35                          36               Dubai     588541      Histórico\n",
      "48                          49               Dubai    4702400          Norte\n",
      "49                          50               Dubai    1701675          Norte\n",
      "137                        138               Dubai    4850774  Metropolitano\n",
      "139                        140               Dubai    4265018      Turístico\n",
      "141                        142               Dubai    4105117  Metropolitano\n",
      "148                        149               Dubai    5623260  Metropolitano\n",
      "150                        151               Dubai    9460828         Centro\n",
      "156                        157               Dubai    4634249      Comercial\n",
      "168                        169               Dubai    6987883      Histórico\n",
      "212                        213               Dubai    6247480         Centro\n",
      "214                        215               Dubai    1857383            Sul\n",
      "217                        218               Dubai    9307478      Turístico\n",
      "221                        222               Dubai    4220031          Oeste\n",
      "226                        227               Dubai    7446527      Comercial\n",
      "239                        240               Dubai    8249772      Histórico\n",
      "241                        242               Dubai    3457438      Turístico\n",
      "246                        247               Dubai    8935772            Sul\n"
     ]
    }
   ],
   "source": [
    "# Q5\n",
    "# Filtrar os destinos onde o nome do destino é \"Dubai\"\n",
    "q5 = df_exportação[df_exportação[\"nome_destino_export\"] == \"Dubai\"]\n",
    "# Exibir os destinos filtrados\n",
    "print(q5)"
   ]
  },
  {
   "cell_type": "code",
   "execution_count": 17,
   "id": "3eb15898",
   "metadata": {},
   "outputs": [
    {
     "name": "stdout",
     "output_type": "stream",
     "text": [
      "     codigo_destino_exportacao nome_destino_export  populacao       distrito\n",
      "1                            2        Buenos Aires    4291107            Sul\n",
      "5                            6           Barcelona    1499990      Histórico\n",
      "9                           10        Buenos Aires    5139856          Leste\n",
      "11                          12              Sydney    4425467          Norte\n",
      "14                          15           Nova York    5323786          Norte\n",
      "..                         ...                 ...        ...            ...\n",
      "227                        228              Sydney    2692866     Industrial\n",
      "235                        236              Sydney    8057333  Metropolitano\n",
      "236                        237             Toronto    7402236  Metropolitano\n",
      "242                        243         Los Angeles    2576848      Turístico\n",
      "245                        246         Los Angeles    7242708          Oeste\n",
      "\n",
      "[83 rows x 4 columns]\n"
     ]
    }
   ],
   "source": [
    "# Q6\n",
    "# Filtrar os destinos onde o nome do destino contém a letra \"N\"\n",
    "q6 = df_exportação[df_exportação[\"nome_destino_export\"].str.contains(\"N\", case=False)]\n",
    "# Exibir os destinos filtrados\n",
    "print(q6)   "
   ]
  },
  {
   "cell_type": "code",
   "execution_count": 18,
   "id": "0607f513",
   "metadata": {},
   "outputs": [
    {
     "name": "stdout",
     "output_type": "stream",
     "text": [
      "A menor população entre os destinos é: 116937\n"
     ]
    }
   ],
   "source": [
    "# Q7\n",
    "# Encontrar a menor população entre os destinos\n",
    "q7 = df_exportação[\"populacao\"].min()\n",
    "# Exibir a menor população\n",
    "print(f\"A menor população entre os destinos é: {q7}\")"
   ]
  },
  {
   "cell_type": "code",
   "execution_count": 19,
   "id": "62b5a92e",
   "metadata": {},
   "outputs": [
    {
     "name": "stdout",
     "output_type": "stream",
     "text": [
      "A maior população entre os destinos é: 9992806\n"
     ]
    }
   ],
   "source": [
    "# Q8\n",
    "# Encontrar a maior população entre os destinos\n",
    "q8 = df_exportação[\"populacao\"].max()\n",
    "# Exibir a maior população\n",
    "print(f\"A maior população entre os destinos é: {q8}\")"
   ]
  },
  {
   "cell_type": "code",
   "execution_count": 20,
   "id": "f82ff988",
   "metadata": {},
   "outputs": [
    {
     "name": "stdout",
     "output_type": "stream",
     "text": [
      "A soma da população de todos os destinos é: 1256138571\n"
     ]
    }
   ],
   "source": [
    "# Q9\n",
    "# Calcular a soma da população de todos os destinos\n",
    "q9 = df_exportação[\"populacao\"].sum()\n",
    "# Exibir a soma da população\n",
    "print(f\"A soma da população de todos os destinos é: {q9}\")"
   ]
  },
  {
   "cell_type": "code",
   "execution_count": 22,
   "id": "43882b86",
   "metadata": {},
   "outputs": [
    {
     "name": "stdout",
     "output_type": "stream",
     "text": [
      "A soma da população dos destinos com código de destino maior que 20 é: 1166083529\n"
     ]
    }
   ],
   "source": [
    "# Q10\n",
    "# Calcular a soma da população dos destinos com código de destino maior que 20\n",
    "q10 = df_exportação[df_exportação[\"codigo_destino_exportacao\"] > 20][\"populacao\"].sum()\n",
    "# Exibir a soma da população\n",
    "print(f\"A soma da população dos destinos com código de destino maior que 20 é: {q10}\")"
   ]
  },
  {
   "cell_type": "code",
   "execution_count": 23,
   "id": "a77bb4f4",
   "metadata": {},
   "outputs": [
    {
     "name": "stdout",
     "output_type": "stream",
     "text": [
      "Quantidade de destinos com código de destino maior ou igual a 100: 151\n"
     ]
    }
   ],
   "source": [
    "# Q11\n",
    "# Filtrar os destinos com código de destino maior ou igual a 100 e contar quantos são\n",
    "q11 = df_exportação[df_exportação[\"codigo_destino_exportacao\"] >= 100].shape[0]\n",
    "# Exibir a contagem\n",
    "print(f\"Quantidade de destinos com código de destino maior ou igual a 100: {q11}\")"
   ]
  },
  {
   "cell_type": "code",
   "execution_count": 24,
   "id": "1b652fb0",
   "metadata": {},
   "outputs": [
    {
     "name": "stdout",
     "output_type": "stream",
     "text": [
      "Quantidade de destinos no distrito 'Mar do Norte': 0\n"
     ]
    }
   ],
   "source": [
    "# Q12\n",
    "# Filtrar os destinos onde o distrito é \"Mar do Norte\" e contar quantos são\n",
    "q12 = df_exportação[df_exportação[\"distrito\"] == \"Mar do Norte\"].shape[0]\n",
    "# Exibir a contagem\n",
    "print(f\"Quantidade de destinos no distrito 'Mar do Norte': {q12}\")"
   ]
  },
  {
   "cell_type": "code",
   "execution_count": 25,
   "id": "ed22fed3",
   "metadata": {},
   "outputs": [
    {
     "name": "stdout",
     "output_type": "stream",
     "text": [
      "A maior população entre os destinos do distrito 'Mar do Norte' é: nan\n"
     ]
    }
   ],
   "source": [
    "#Q13\n",
    "# Encontrar a maior população entre os destinos do distrito \"Mar do Norte\"\n",
    "q13 = df_exportação[df_exportação[\"distrito\"] == \"Mar do Norte\"][\"populacao\"].max()\n",
    "# Exibir a maior população\n",
    "print(f\"A maior população entre os destinos do distrito 'Mar do Norte' é: {q13}\")"
   ]
  },
  {
   "cell_type": "code",
   "execution_count": 27,
   "id": "d3b89666",
   "metadata": {},
   "outputs": [
    {
     "name": "stdout",
     "output_type": "stream",
     "text": [
      "A soma da população dos destinos que não são 'Reino de Ritol' é: 1256138571\n"
     ]
    }
   ],
   "source": [
    "# Q14\n",
    "# Calcular a soma da população dos destinos que não são \"Reino de Ritol\"\n",
    "q14 = df_exportação[df_exportação[\"nome_destino_export\"] != \"Reino de Ritol\"][\"populacao\"].sum()\n",
    "# Exibir a soma da população\n",
    "print(f\"A soma da população dos destinos que não são 'Reino de Ritol' é: {q14}\")"
   ]
  },
  {
   "cell_type": "markdown",
   "id": "38dbc8c4",
   "metadata": {},
   "source": [
    "**Q15 e Q16 – Observações importantes:**\n",
    "As cláusulas WHERE após GROUP BY são inválidas em SQL puro — você deve usar HAVING. Em pandas, usamos .groupby() seguido de .filter() ou .agg().\n"
   ]
  },
  {
   "cell_type": "code",
   "execution_count": null,
   "id": "8a0ea6e6",
   "metadata": {},
   "outputs": [
    {
     "name": "stdout",
     "output_type": "stream",
     "text": [
      "Média da população por distrito com filtro >= 200:\n",
      "        distrito     populacao\n",
      "0         Centro  4.782813e+06\n",
      "1      Comercial  4.534451e+06\n",
      "2      Histórico  5.308784e+06\n",
      "3     Industrial  4.747794e+06\n",
      "4          Leste  5.801125e+06\n",
      "5  Metropolitano  5.018843e+06\n",
      "6          Norte  4.423092e+06\n",
      "7          Oeste  5.462620e+06\n",
      "8            Sul  4.788455e+06\n",
      "9      Turístico  5.449685e+06\n"
     ]
    }
   ],
   "source": [
    "# Q15 - Média da população por distrito, com filtro >= 200\n",
    "q15 = df_exportação.groupby(\"distrito\")[\"populacao\"].mean().reset_index()\n",
    "q15 = q15[q15[\"populacao\"] >= 200]  # equivalente ao HAVING AVG(populacao) >= 200\n",
    "# Exibir a média da população por distrito com filtro\n",
    "print(f\"Média da população por distrito com filtro >= 200:\\n{q15}\")"
   ]
  },
  {
   "cell_type": "code",
   "execution_count": 33,
   "id": "091c2571",
   "metadata": {},
   "outputs": [
    {
     "name": "stdout",
     "output_type": "stream",
     "text": [
      "Contagem por distrito com filtro >= 3:\n",
      "        distrito  contagem\n",
      "0         Centro        27\n",
      "1      Comercial        27\n",
      "2      Histórico        21\n",
      "3     Industrial        30\n",
      "4          Leste        24\n",
      "5  Metropolitano        32\n",
      "6          Norte        20\n",
      "7          Oeste        17\n",
      "8            Sul        21\n",
      "9      Turístico        31\n"
     ]
    }
   ],
   "source": [
    "# Q16 - Contagem por distrito com filtro >= 3\n",
    "q16 = df_exportação.groupby(\"distrito\").size().reset_index(name=\"contagem\")\n",
    "q16 = q16[q16[\"contagem\"] >= 3]  # equivalente ao HAVING COUNT(*) >= 3\n",
    "# Exibir a contagem por distrito com filtro\n",
    "print(f\"Contagem por distrito com filtro >= 3:\\n{q16}\")"
   ]
  },
  {
   "cell_type": "markdown",
   "id": "75f0c0f2",
   "metadata": {},
   "source": [
    "**Q17 e Q18 – Relacionamento com outra tabela:**\n",
    "Você precisa de dois DataFrames: detalhes_vendas e produto. Vamos simular isso:"
   ]
  },
  {
   "cell_type": "code",
   "execution_count": 36,
   "id": "5a3aaf46",
   "metadata": {},
   "outputs": [
    {
     "name": "stdout",
     "output_type": "stream",
     "text": [
      "Detalhes de vendas com produtos de preço >= 300:\n",
      "   codigo_produto  quantidade\n",
      "1             102           5\n",
      "3             104           4\n",
      "Vendas com quantidade abaixo da média para o mesmo produto:\n",
      "Empty DataFrame\n",
      "Columns: [codigo_produto, quantidade, media_produto]\n",
      "Index: []\n"
     ]
    }
   ],
   "source": [
    "# Suponha que temos estes DataFrames:\n",
    "detalhes_vendas = pd.DataFrame({\n",
    "    \"codigo_produto\": [101, 102, 103, 104],\n",
    "    \"quantidade\": [2, 5, 1, 4]\n",
    "})\n",
    "\n",
    "produto = pd.DataFrame({\n",
    "    \"codigo_produto\": [101, 102, 103, 104],\n",
    "    \"preco_unitario\": [290, 310, 150, 500]\n",
    "})\n",
    "\n",
    "# Q17 - Detalhes de vendas com produtos de preço >= 300\n",
    "produtos_caros = produto[produto[\"preco_unitario\"] >= 300][\"codigo_produto\"]\n",
    "q17 = detalhes_vendas[detalhes_vendas[\"codigo_produto\"].isin(produtos_caros)]\n",
    "\n",
    "# Q18 - Vendas com quantidade abaixo da média para o mesmo produto\n",
    "q18 = detalhes_vendas.copy()\n",
    "q18[\"media_produto\"] = q18.groupby(\"codigo_produto\")[\"quantidade\"].transform(\"mean\")\n",
    "q18 = q18[q18[\"quantidade\"] < q18[\"media_produto\"]]\n",
    "# Exibir os resultados das perguntas 17 e 18\n",
    "print(f\"Detalhes de vendas com produtos de preço >= 300:\\n{q17}\")\n",
    "print(f\"Vendas com quantidade abaixo da média para o mesmo produto:\\n{q18}\")\n"
   ]
  }
 ],
 "metadata": {
  "kernelspec": {
   "display_name": ".venv",
   "language": "python",
   "name": "python3"
  },
  "language_info": {
   "codemirror_mode": {
    "name": "ipython",
    "version": 3
   },
   "file_extension": ".py",
   "mimetype": "text/x-python",
   "name": "python",
   "nbconvert_exporter": "python",
   "pygments_lexer": "ipython3",
   "version": "3.12.3"
  }
 },
 "nbformat": 4,
 "nbformat_minor": 5
}
